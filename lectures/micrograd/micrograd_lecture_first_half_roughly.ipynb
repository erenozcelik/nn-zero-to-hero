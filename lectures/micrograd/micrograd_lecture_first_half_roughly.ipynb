{
 "cells": [
  {
   "cell_type": "code",
   "execution_count": 1,
   "metadata": {},
   "outputs": [],
   "source": [
    "import math\n",
    "import numpy as np\n",
    "import matplotlib.pyplot as plt\n",
    "%matplotlib inline"
   ]
  },
  {
   "cell_type": "code",
   "execution_count": 2,
   "metadata": {},
   "outputs": [],
   "source": [
    "def f(x):\n",
    "  return 3*x**2 - 4*x + 5"
   ]
  },
  {
   "cell_type": "code",
   "execution_count": 3,
   "metadata": {},
   "outputs": [
    {
     "data": {
      "text/plain": [
       "20.0"
      ]
     },
     "execution_count": 3,
     "metadata": {},
     "output_type": "execute_result"
    }
   ],
   "source": [
    "f(3.0)"
   ]
  },
  {
   "cell_type": "code",
   "execution_count": 4,
   "metadata": {},
   "outputs": [
    {
     "data": {
      "text/plain": [
       "[<matplotlib.lines.Line2D at 0x1d61233ddc0>]"
      ]
     },
     "execution_count": 4,
     "metadata": {},
     "output_type": "execute_result"
    },
    {
     "data": {
      "image/png": "[encoded data removed]",
      "text/plain": [
       "<Figure size 432x288 with 1 Axes>"
      ]
     },
     "metadata": {
      "needs_background": "light"
     },
     "output_type": "display_data"
    }
   ],
   "source": [
    "xs = np.arange(-5, 5, 0.25)\n",
    "ys = f(xs)\n",
    "plt.plot(xs, ys)"
   ]
  },
  {
   "cell_type": "code",
   "execution_count": 5,
   "metadata": {},
   "outputs": [
    {
     "data": {
      "text/plain": [
       "2.999378523327323e-06"
      ]
     },
     "execution_count": 5,
     "metadata": {},
     "output_type": "execute_result"
    }
   ],
   "source": [
    "h = 0.000001\n",
    "x = 2/3\n",
    "(f(x + h) - f(x))/h"
   ]
  },
  {
   "cell_type": "code",
   "execution_count": 6,
   "metadata": {},
   "outputs": [
    {
     "data": {
      "text/plain": [
       "(20.0, 20.014003000000002, 20.001400030000006)"
      ]
     },
     "execution_count": 6,
     "metadata": {},
     "output_type": "execute_result"
    }
   ],
   "source": [
    "x = 3.0\n",
    "h = 0.001\n",
    "f(x), f(x + h), f(x + h/10)"
   ]
  },
  {
   "cell_type": "code",
   "execution_count": 7,
   "metadata": {},
   "outputs": [
    {
     "data": {
      "text/plain": [
       "14.000003002223593"
      ]
     },
     "execution_count": 7,
     "metadata": {},
     "output_type": "execute_result"
    }
   ],
   "source": [
    "h = 0.000001\n",
    "x = 3.0\n",
    "(f(x + h) - f(x))/h"
   ]
  },
  {
   "cell_type": "markdown",
   "metadata": {},
   "source": [
    "f'(x) = 6x - 4\n",
    "f(3.0) = 18.0 - 4.0 = 14.0"
   ]
  },
  {
   "cell_type": "code",
   "execution_count": 8,
   "metadata": {},
   "outputs": [
    {
     "data": {
      "text/plain": [
       "-21.999997002808414"
      ]
     },
     "execution_count": 8,
     "metadata": {},
     "output_type": "execute_result"
    }
   ],
   "source": [
    "h = 0.000001\n",
    "x = -3.0\n",
    "(f(x + h) - f(x))/h\n"
   ]
  },
  {
   "cell_type": "code",
   "execution_count": 9,
   "metadata": {},
   "outputs": [
    {
     "name": "stdout",
     "output_type": "stream",
     "text": [
      "4.0\n"
     ]
    }
   ],
   "source": [
    "# les get more complex\n",
    "a = 2.0\n",
    "b = -3.0\n",
    "c = 10.0\n",
    "d = a*b + c\n",
    "print(d)"
   ]
  },
  {
   "cell_type": "code",
   "execution_count": 10,
   "metadata": {},
   "outputs": [
    {
     "name": "stdout",
     "output_type": "stream",
     "text": [
      "d1 4.0\n",
      "d2 4.0001\n",
      "slope 0.9999999999976694\n"
     ]
    }
   ],
   "source": [
    "h = 0.0001\n",
    "\n",
    "# inputs\n",
    "a = 2.0\n",
    "b = -3.0\n",
    "c = 10.0\n",
    "\n",
    "d1 = a*b + c\n",
    "c += h\n",
    "d2 = a*b + c\n",
    "\n",
    "print('d1', d1)\n",
    "print('d2', d2)\n",
    "print('slope', (d2 - d1)/h)\n"
   ]
  },
  {
   "cell_type": "code",
   "execution_count": 11,
   "metadata": {},
   "outputs": [
    {
     "name": "stdout",
     "output_type": "stream",
     "text": [
      "d1 4.0\n",
      "d2 3.999699999999999\n",
      "slope -3.000000000010772\n"
     ]
    }
   ],
   "source": [
    "h = 0.0001\n",
    "\n",
    "# inputs\n",
    "a = 2.0\n",
    "b = -3.0\n",
    "c = 10.0\n",
    "\n",
    "d1 = a*b + c\n",
    "a += h\n",
    "d2 = a*b + c\n",
    "\n",
    "print('d1', d1)\n",
    "print('d2', d2)\n",
    "print('slope', (d2 - d1)/h)"
   ]
  },
  {
   "cell_type": "code",
   "execution_count": 12,
   "metadata": {},
   "outputs": [
    {
     "name": "stdout",
     "output_type": "stream",
     "text": [
      "d1 4.0\n",
      "d2 4.0002\n",
      "slope 2.0000000000042206\n"
     ]
    }
   ],
   "source": [
    "h = 0.0001\n",
    "\n",
    "# inputs\n",
    "a = 2.0\n",
    "b = -3.0\n",
    "c = 10.0\n",
    "\n",
    "d1 = a*b + c\n",
    "b += h\n",
    "d2 = a*b + c\n",
    "\n",
    "print('d1', d1)\n",
    "print('d2', d2)\n",
    "print('slope', (d2 - d1)/h)"
   ]
  },
  {
   "cell_type": "code",
   "execution_count": 13,
   "metadata": {},
   "outputs": [
    {
     "name": "stdout",
     "output_type": "stream",
     "text": [
      "Value(data=-1.0) Value(data=-1.0)\n",
      "Value(data=-6.0) Value(data=-6.0)\n"
     ]
    }
   ],
   "source": [
    "class Value1:\n",
    "    def __init__(self, data):\n",
    "        self.data = data\n",
    "    def __repr__(self):\n",
    "        return f\"Value(data={self.data})\"\n",
    "    \n",
    "    def __add__(self, other):\n",
    "        out = Value1(self.data + other.data)\n",
    "        return out\n",
    "    \n",
    "    def __mul__(self, other):\n",
    "        out = Value1(self.data * other.data)\n",
    "        return out\n",
    "    \n",
    "a = Value1(2.0)\n",
    "b = Value1(-3.0)\n",
    "c = Value1(10.0)\n",
    "print(a+b, a.__add__(b))\n",
    "print(a*b, a.__mul__(b))"
   ]
  },
  {
   "cell_type": "code",
   "execution_count": 14,
   "metadata": {},
   "outputs": [
    {
     "name": "stdout",
     "output_type": "stream",
     "text": [
      "Value(data=4.0) Value(data=4.0)\n"
     ]
    }
   ],
   "source": [
    "print(a*b+c, a.__mul__(b).__add__(c))"
   ]
  },
  {
   "cell_type": "code",
   "execution_count": 31,
   "metadata": {},
   "outputs": [],
   "source": [
    "class Value2:\n",
    "    def __init__(self, data, _children = (), _op = \"\", label = \"\"): # _children: tuple\n",
    "        self.data = data\n",
    "        self._prev = set(_children)\n",
    "        self._op = _op\n",
    "        self.label = label\n",
    "        \n",
    "    def __repr__(self):\n",
    "        return f\"Value(data={self.data})\"\n",
    "    \n",
    "    def __add__(self, other):\n",
    "        out = Value2(self.data + other.data, (self, other), \"+\") # (self, other): _children\n",
    "        return out\n",
    "    \n",
    "    def __mul__(self, other):\n",
    "        out = Value2(self.data * other.data, (self, other), \"*\")\n",
    "        return out"
   ]
  },
  {
   "cell_type": "code",
   "execution_count": 40,
   "metadata": {},
   "outputs": [
    {
     "name": "stdout",
     "output_type": "stream",
     "text": [
      "Value(data=4.0)\n",
      "{Value(data=-6.0), Value(data=10.0)}\n",
      "set()\n",
      "+\n",
      "Value(data=-8.0)\n"
     ]
    }
   ],
   "source": [
    "a = Value2(2.0, label = \"a\")\n",
    "b = Value2(-3.0, label = \"b\")\n",
    "c = Value2(10.0, label = \"c\")\n",
    "e = a*b; \n",
    "e.label = \"e\"\n",
    "d = e + c\n",
    "d.label = \"d\"\n",
    "\n",
    "f = Value2(-2.0)\n",
    "L = d*f\n",
    "\n",
    "\n",
    "print(d)\n",
    "print(d._prev)\n",
    "print(a._prev)\n",
    "print(d._op)\n",
    "print(L)"
   ]
  },
  {
   "cell_type": "code",
   "execution_count": null,
   "metadata": {},
   "outputs": [],
   "source": [
    "from graphviz import Digraph\n",
    "\n",
    "def trace(root):\n",
    "  # builds a set of all nodes and edges in a graph\n",
    "  nodes, edges = set(), set()\n",
    "  def build(v):\n",
    "    if v not in nodes:\n",
    "      nodes.add(v)\n",
    "      for child in v._prev:\n",
    "        edges.add((child, v))\n",
    "        build(child)\n",
    "  build(root)\n",
    "  return nodes, edges\n",
    "\n",
    "def draw_dot(root):\n",
    "  dot = Digraph(format='svg', graph_attr={'rankdir': 'LR'}) # LR = left to right\n",
    "  \n",
    "  nodes, edges = trace(root)\n",
    "  for n in nodes:\n",
    "    uid = str(id(n))\n",
    "    # for any value in the graph, create a rectangular ('record') node for it\n",
    "    dot.node(name = uid, label = \"{%s |data %.4f}\" % (n.label, n.data, ), shape='record')\n",
    "    if n._op:\n",
    "      # if this value is a result of some operation, create an op node for it\n",
    "      dot.node(name = uid + n._op, label = n._op)\n",
    "      # and connect this node to it\n",
    "      dot.edge(uid + n._op, uid)\n",
    "\n",
    "  for n1, n2 in edges:\n",
    "    # connect n1 to the op node of n2\n",
    "    dot.edge(str(id(n1)), str(id(n2)) + n2._op)\n",
    "\n",
    "  return dot"
   ]
  },
  {
   "cell_type": "code",
   "execution_count": 42,
   "metadata": {},
   "outputs": [],
   "source": [
    "import os\n",
    "\n",
    "os.environ['PATH'] = os.environ['PATH']+';'+os.environ['CONDA_PREFIX']+r\"\\Library\\bin\\graphviz\""
   ]
  },
  {
   "cell_type": "code",
   "execution_count": 45,
   "metadata": {},
   "outputs": [
    {
     "data": {
      "image/svg+xml": [
       "<?xml version=\"1.0\" encoding=\"UTF-8\" standalone=\"no\"?>\n",
       "<!DOCTYPE svg PUBLIC \"-//W3C//DTD SVG 1.1//EN\"\n",
       " \"http://www.w3.org/Graphics/SVG/1.1/DTD/svg11.dtd\">\n",
       "<!-- Generated by graphviz version 2.38.0 (20140413.2041)\n",
       " -->\n",
       "<!-- Title: %3 Pages: 1 -->\n",
       "<svg width=\"824pt\" height=\"154pt\"\n",
       " viewBox=\"0.00 0.00 824.00 154.00\" xmlns=\"http://www.w3.org/2000/svg\" xmlns:xlink=\"http://www.w3.org/1999/xlink\">\n",
       "<g id=\"graph0\" class=\"graph\" transform=\"scale(1 1) rotate(0) translate(4 150)\">\n",
       "<title>%3</title>\n",
       "<polygon fill=\"white\" stroke=\"none\" points=\"-4,4 -4,-150 820,-150 820,4 -4,4\"/>\n",
       "<!-- 2018948192288 -->\n",
       "<g id=\"node1\" class=\"node\"><title>2018948192288</title>\n",
       "<polygon fill=\"none\" stroke=\"black\" points=\"705,-81.5 705,-117.5 816,-117.5 816,-81.5 705,-81.5\"/>\n",
       "<text text-anchor=\"middle\" x=\"717.5\" y=\"-95.8\" font-family=\"Times New Roman,serif\" font-size=\"14.00\">L</text>\n",
       "<polyline fill=\"none\" stroke=\"black\" points=\"730,-81.5 730,-117.5 \"/>\n",
       "<text text-anchor=\"middle\" x=\"773\" y=\"-95.8\" font-family=\"Times New Roman,serif\" font-size=\"14.00\">data &#45;8.0000</text>\n",
       "</g>\n",
       "<!-- 2018948192288* -->\n",
       "<g id=\"node2\" class=\"node\"><title>2018948192288*</title>\n",
       "<ellipse fill=\"none\" stroke=\"black\" cx=\"642\" cy=\"-99.5\" rx=\"27\" ry=\"18\"/>\n",
       "<text text-anchor=\"middle\" x=\"642\" y=\"-95.8\" font-family=\"Times New Roman,serif\" font-size=\"14.00\">*</text>\n",
       "</g>\n",
       "<!-- 2018948192288*&#45;&gt;2018948192288 -->\n",
       "<g id=\"edge1\" class=\"edge\"><title>2018948192288*&#45;&gt;2018948192288</title>\n",
       "<path fill=\"none\" stroke=\"black\" d=\"M669.145,-99.5C676.846,-99.5 685.636,-99.5 694.64,-99.5\"/>\n",
       "<polygon fill=\"black\" stroke=\"black\" points=\"694.849,-103 704.849,-99.5 694.849,-96.0001 694.849,-103\"/>\n",
       "</g>\n",
       "<!-- 2018948193872 -->\n",
       "<g id=\"node3\" class=\"node\"><title>2018948193872</title>\n",
       "<polygon fill=\"none\" stroke=\"black\" points=\"236,-82.5 236,-118.5 347,-118.5 347,-82.5 236,-82.5\"/>\n",
       "<text text-anchor=\"middle\" x=\"247.5\" y=\"-96.8\" font-family=\"Times New Roman,serif\" font-size=\"14.00\">c</text>\n",
       "<polyline fill=\"none\" stroke=\"black\" points=\"259,-82.5 259,-118.5 \"/>\n",
       "<text text-anchor=\"middle\" x=\"303\" y=\"-96.8\" font-family=\"Times New Roman,serif\" font-size=\"14.00\">data 10.0000</text>\n",
       "</g>\n",
       "<!-- 2018948192672+ -->\n",
       "<g id=\"node10\" class=\"node\"><title>2018948192672+</title>\n",
       "<ellipse fill=\"none\" stroke=\"black\" cx=\"410\" cy=\"-72.5\" rx=\"27\" ry=\"18\"/>\n",
       "<text text-anchor=\"middle\" x=\"410\" y=\"-68.8\" font-family=\"Times New Roman,serif\" font-size=\"14.00\">+</text>\n",
       "</g>\n",
       "<!-- 2018948193872&#45;&gt;2018948192672+ -->\n",
       "<g id=\"edge9\" class=\"edge\"><title>2018948193872&#45;&gt;2018948192672+</title>\n",
       "<path fill=\"none\" stroke=\"black\" d=\"M347.339,-87.3199C356.569,-85.1014 365.914,-82.8553 374.443,-80.8056\"/>\n",
       "<polygon fill=\"black\" stroke=\"black\" points=\"375.473,-84.1578 384.378,-78.4178 373.837,-77.3516 375.473,-84.1578\"/>\n",
       "</g>\n",
       "<!-- 2018948193920 -->\n",
       "<g id=\"node4\" class=\"node\"><title>2018948193920</title>\n",
       "<polygon fill=\"none\" stroke=\"black\" points=\"3,-55.5 3,-91.5 107,-91.5 107,-55.5 3,-55.5\"/>\n",
       "<text text-anchor=\"middle\" x=\"14.5\" y=\"-69.8\" font-family=\"Times New Roman,serif\" font-size=\"14.00\">a</text>\n",
       "<polyline fill=\"none\" stroke=\"black\" points=\"26,-55.5 26,-91.5 \"/>\n",
       "<text text-anchor=\"middle\" x=\"66.5\" y=\"-69.8\" font-family=\"Times New Roman,serif\" font-size=\"14.00\">data 2.0000</text>\n",
       "</g>\n",
       "<!-- 2018948192912* -->\n",
       "<g id=\"node6\" class=\"node\"><title>2018948192912*</title>\n",
       "<ellipse fill=\"none\" stroke=\"black\" cx=\"173\" cy=\"-45.5\" rx=\"27\" ry=\"18\"/>\n",
       "<text text-anchor=\"middle\" x=\"173\" y=\"-41.8\" font-family=\"Times New Roman,serif\" font-size=\"14.00\">*</text>\n",
       "</g>\n",
       "<!-- 2018948193920&#45;&gt;2018948192912* -->\n",
       "<g id=\"edge7\" class=\"edge\"><title>2018948193920&#45;&gt;2018948192912*</title>\n",
       "<path fill=\"none\" stroke=\"black\" d=\"M107.217,-61.1373C117.468,-58.6628 128.006,-56.1191 137.526,-53.8212\"/>\n",
       "<polygon fill=\"black\" stroke=\"black\" points=\"138.495,-57.1879 147.395,-51.4392 136.853,-50.3833 138.495,-57.1879\"/>\n",
       "</g>\n",
       "<!-- 2018948192912 -->\n",
       "<g id=\"node5\" class=\"node\"><title>2018948192912</title>\n",
       "<polygon fill=\"none\" stroke=\"black\" points=\"237,-27.5 237,-63.5 346,-63.5 346,-27.5 237,-27.5\"/>\n",
       "<text text-anchor=\"middle\" x=\"248.5\" y=\"-41.8\" font-family=\"Times New Roman,serif\" font-size=\"14.00\">e</text>\n",
       "<polyline fill=\"none\" stroke=\"black\" points=\"260,-27.5 260,-63.5 \"/>\n",
       "<text text-anchor=\"middle\" x=\"303\" y=\"-41.8\" font-family=\"Times New Roman,serif\" font-size=\"14.00\">data &#45;6.0000</text>\n",
       "</g>\n",
       "<!-- 2018948192912&#45;&gt;2018948192672+ -->\n",
       "<g id=\"edge5\" class=\"edge\"><title>2018948192912&#45;&gt;2018948192672+</title>\n",
       "<path fill=\"none\" stroke=\"black\" d=\"M346.317,-57.9726C355.83,-60.1773 365.501,-62.4188 374.309,-64.46\"/>\n",
       "<polygon fill=\"black\" stroke=\"black\" points=\"373.658,-67.9018 384.19,-66.75 375.238,-61.0825 373.658,-67.9018\"/>\n",
       "</g>\n",
       "<!-- 2018948192912*&#45;&gt;2018948192912 -->\n",
       "<g id=\"edge2\" class=\"edge\"><title>2018948192912*&#45;&gt;2018948192912</title>\n",
       "<path fill=\"none\" stroke=\"black\" d=\"M200.145,-45.5C208.126,-45.5 217.277,-45.5 226.622,-45.5\"/>\n",
       "<polygon fill=\"black\" stroke=\"black\" points=\"226.794,-49.0001 236.794,-45.5 226.794,-42.0001 226.794,-49.0001\"/>\n",
       "</g>\n",
       "<!-- 2018948192624 -->\n",
       "<g id=\"node7\" class=\"node\"><title>2018948192624</title>\n",
       "<polygon fill=\"none\" stroke=\"black\" points=\"473,-109.5 473,-145.5 579,-145.5 579,-109.5 473,-109.5\"/>\n",
       "<text text-anchor=\"middle\" x=\"483\" y=\"-123.8\" font-family=\"Times New Roman,serif\" font-size=\"14.00\"> </text>\n",
       "<polyline fill=\"none\" stroke=\"black\" points=\"493,-109.5 493,-145.5 \"/>\n",
       "<text text-anchor=\"middle\" x=\"536\" y=\"-123.8\" font-family=\"Times New Roman,serif\" font-size=\"14.00\">data &#45;2.0000</text>\n",
       "</g>\n",
       "<!-- 2018948192624&#45;&gt;2018948192288* -->\n",
       "<g id=\"edge6\" class=\"edge\"><title>2018948192624&#45;&gt;2018948192288*</title>\n",
       "<path fill=\"none\" stroke=\"black\" d=\"M579.329,-114.647C588.484,-112.399 597.8,-110.11 606.326,-108.016\"/>\n",
       "<polygon fill=\"black\" stroke=\"black\" points=\"607.392,-111.359 616.268,-105.575 605.722,-104.561 607.392,-111.359\"/>\n",
       "</g>\n",
       "<!-- 2018948193152 -->\n",
       "<g id=\"node8\" class=\"node\"><title>2018948193152</title>\n",
       "<polygon fill=\"none\" stroke=\"black\" points=\"0,-0.5 0,-36.5 110,-36.5 110,-0.5 0,-0.5\"/>\n",
       "<text text-anchor=\"middle\" x=\"12\" y=\"-14.8\" font-family=\"Times New Roman,serif\" font-size=\"14.00\">b</text>\n",
       "<polyline fill=\"none\" stroke=\"black\" points=\"24,-0.5 24,-36.5 \"/>\n",
       "<text text-anchor=\"middle\" x=\"67\" y=\"-14.8\" font-family=\"Times New Roman,serif\" font-size=\"14.00\">data &#45;3.0000</text>\n",
       "</g>\n",
       "<!-- 2018948193152&#45;&gt;2018948192912* -->\n",
       "<g id=\"edge4\" class=\"edge\"><title>2018948193152&#45;&gt;2018948192912*</title>\n",
       "<path fill=\"none\" stroke=\"black\" d=\"M110.264,-31.1304C119.487,-33.277 128.836,-35.4531 137.373,-37.4403\"/>\n",
       "<polygon fill=\"black\" stroke=\"black\" points=\"136.789,-40.8977 147.322,-39.7559 138.376,-34.08 136.789,-40.8977\"/>\n",
       "</g>\n",
       "<!-- 2018948192672 -->\n",
       "<g id=\"node9\" class=\"node\"><title>2018948192672</title>\n",
       "<polygon fill=\"none\" stroke=\"black\" points=\"473.5,-54.5 473.5,-90.5 578.5,-90.5 578.5,-54.5 473.5,-54.5\"/>\n",
       "<text text-anchor=\"middle\" x=\"485.5\" y=\"-68.8\" font-family=\"Times New Roman,serif\" font-size=\"14.00\">d</text>\n",
       "<polyline fill=\"none\" stroke=\"black\" points=\"497.5,-54.5 497.5,-90.5 \"/>\n",
       "<text text-anchor=\"middle\" x=\"538\" y=\"-68.8\" font-family=\"Times New Roman,serif\" font-size=\"14.00\">data 4.0000</text>\n",
       "</g>\n",
       "<!-- 2018948192672&#45;&gt;2018948192288* -->\n",
       "<g id=\"edge8\" class=\"edge\"><title>2018948192672&#45;&gt;2018948192288*</title>\n",
       "<path fill=\"none\" stroke=\"black\" d=\"M578.663,-84.736C588.063,-86.9624 597.659,-89.235 606.415,-91.3088\"/>\n",
       "<polygon fill=\"black\" stroke=\"black\" points=\"605.709,-94.7383 616.246,-93.6372 607.322,-87.9267 605.709,-94.7383\"/>\n",
       "</g>\n",
       "<!-- 2018948192672+&#45;&gt;2018948192672 -->\n",
       "<g id=\"edge3\" class=\"edge\"><title>2018948192672+&#45;&gt;2018948192672</title>\n",
       "<path fill=\"none\" stroke=\"black\" d=\"M437.154,-72.5C445.071,-72.5 454.124,-72.5 463.341,-72.5\"/>\n",
       "<polygon fill=\"black\" stroke=\"black\" points=\"463.36,-76.0001 473.36,-72.5 463.36,-69.0001 463.36,-76.0001\"/>\n",
       "</g>\n",
       "</g>\n",
       "</svg>\n"
      ],
      "text/plain": [
       "<graphviz.graphs.Digraph at 0x1d612a317f0>"
      ]
     },
     "execution_count": 45,
     "metadata": {},
     "output_type": "execute_result"
    }
   ],
   "source": [
    "L.label = \"L\"\n",
    "draw_dot(L)"
   ]
  },
  {
   "cell_type": "code",
   "execution_count": 46,
   "metadata": {},
   "outputs": [],
   "source": [
    "class Value3:\n",
    "    def __init__(self, data, _children = (), _op = \"\", label = \"\"): # _children: tuple\n",
    "        self.data = data\n",
    "        self._prev = set(_children)\n",
    "        self._op = _op\n",
    "        self.label = label\n",
    "        self.grad = 0.0\n",
    "        \n",
    "    def __repr__(self):\n",
    "        return f\"Value(data={self.data})\"\n",
    "    \n",
    "    def __add__(self, other):\n",
    "        out = Value3(self.data + other.data, (self, other), \"+\") # (self, other): _children\n",
    "        return out\n",
    "    \n",
    "    def __mul__(self, other):\n",
    "        out = Value3(self.data * other.data, (self, other), \"*\")\n",
    "        return out"
   ]
  },
  {
   "cell_type": "code",
   "execution_count": 47,
   "metadata": {},
   "outputs": [],
   "source": [
    "from graphviz import Digraph\n",
    "\n",
    "def trace(root):\n",
    "  # builds a set of all nodes and edges in a graph\n",
    "  nodes, edges = set(), set()\n",
    "  def build(v):\n",
    "    if v not in nodes:\n",
    "      nodes.add(v)\n",
    "      for child in v._prev:\n",
    "        edges.add((child, v))\n",
    "        build(child)\n",
    "  build(root)\n",
    "  return nodes, edges\n",
    "\n",
    "def draw_dot(root):\n",
    "  dot = Digraph(format='svg', graph_attr={'rankdir': 'LR'}) # LR = left to right\n",
    "  \n",
    "  nodes, edges = trace(root)\n",
    "  for n in nodes:\n",
    "    uid = str(id(n))\n",
    "    # for any value in the graph, create a rectangular ('record') node for it\n",
    "    dot.node(name = uid, label = \"{%s |data %.4f | grad %.4f }\" % (n.label, n.data, n.grad), shape='record')\n",
    "    if n._op:\n",
    "      # if this value is a result of some operation, create an op node for it\n",
    "      dot.node(name = uid + n._op, label = n._op)\n",
    "      # and connect this node to it\n",
    "      dot.edge(uid + n._op, uid)\n",
    "\n",
    "  for n1, n2 in edges:\n",
    "    # connect n1 to the op node of n2\n",
    "    dot.edge(str(id(n1)), str(id(n2)) + n2._op)\n",
    "\n",
    "  return dot"
   ]
  },
  {
   "cell_type": "code",
   "execution_count": 52,
   "metadata": {},
   "outputs": [],
   "source": [
    "a = Value3(2.0, label = \"a\")\n",
    "b = Value3(-3.0, label = \"b\")\n",
    "c = Value3(10.0, label = \"c\")\n",
    "e = a*b; \n",
    "e.label = \"e\"\n",
    "d = e + c\n",
    "d.label = \"d\"\n",
    "\n",
    "f = Value3(-2.0)\n",
    "f.label = \"f\"\n",
    "L = d*f\n",
    "L.label = \"L\""
   ]
  },
  {
   "cell_type": "code",
   "execution_count": 53,
   "metadata": {},
   "outputs": [
    {
     "data": {
      "image/svg+xml": [
       "<?xml version=\"1.0\" encoding=\"UTF-8\" standalone=\"no\"?>\n",
       "<!DOCTYPE svg PUBLIC \"-//W3C//DTD SVG 1.1//EN\"\n",
       " \"http://www.w3.org/Graphics/SVG/1.1/DTD/svg11.dtd\">\n",
       "<!-- Generated by graphviz version 2.38.0 (20140413.2041)\n",
       " -->\n",
       "<!-- Title: %3 Pages: 1 -->\n",
       "<svg width=\"1157pt\" height=\"128pt\"\n",
       " viewBox=\"0.00 0.00 1157.00 128.00\" xmlns=\"http://www.w3.org/2000/svg\" xmlns:xlink=\"http://www.w3.org/1999/xlink\">\n",
       "<g id=\"graph0\" class=\"graph\" transform=\"scale(1 1) rotate(0) translate(4 124)\">\n",
       "<title>%3</title>\n",
       "<polygon fill=\"white\" stroke=\"none\" points=\"-4,4 -4,-124 1153,-124 1153,4 -4,4\"/>\n",
       "<!-- 2018947855888 -->\n",
       "<g id=\"node1\" class=\"node\"><title>2018947855888</title>\n",
       "<polygon fill=\"none\" stroke=\"black\" points=\"955,-27.5 955,-63.5 1149,-63.5 1149,-27.5 955,-27.5\"/>\n",
       "<text text-anchor=\"middle\" x=\"967.5\" y=\"-41.8\" font-family=\"Times New Roman,serif\" font-size=\"14.00\">L</text>\n",
       "<polyline fill=\"none\" stroke=\"black\" points=\"980,-27.5 980,-63.5 \"/>\n",
       "<text text-anchor=\"middle\" x=\"1023\" y=\"-41.8\" font-family=\"Times New Roman,serif\" font-size=\"14.00\">data &#45;8.0000</text>\n",
       "<polyline fill=\"none\" stroke=\"black\" points=\"1066,-27.5 1066,-63.5 \"/>\n",
       "<text text-anchor=\"middle\" x=\"1107.5\" y=\"-41.8\" font-family=\"Times New Roman,serif\" font-size=\"14.00\">grad 0.0000</text>\n",
       "</g>\n",
       "<!-- 2018947855888* -->\n",
       "<g id=\"node2\" class=\"node\"><title>2018947855888*</title>\n",
       "<ellipse fill=\"none\" stroke=\"black\" cx=\"892\" cy=\"-45.5\" rx=\"27\" ry=\"18\"/>\n",
       "<text text-anchor=\"middle\" x=\"892\" y=\"-41.8\" font-family=\"Times New Roman,serif\" font-size=\"14.00\">*</text>\n",
       "</g>\n",
       "<!-- 2018947855888*&#45;&gt;2018947855888 -->\n",
       "<g id=\"edge1\" class=\"edge\"><title>2018947855888*&#45;&gt;2018947855888</title>\n",
       "<path fill=\"none\" stroke=\"black\" d=\"M919.09,-45.5C926.621,-45.5 935.34,-45.5 944.635,-45.5\"/>\n",
       "<polygon fill=\"black\" stroke=\"black\" points=\"944.918,-49.0001 954.918,-45.5 944.918,-42.0001 944.918,-49.0001\"/>\n",
       "</g>\n",
       "<!-- 2018948193296 -->\n",
       "<g id=\"node3\" class=\"node\"><title>2018948193296</title>\n",
       "<polygon fill=\"none\" stroke=\"black\" points=\"319,-83.5 319,-119.5 513,-119.5 513,-83.5 319,-83.5\"/>\n",
       "<text text-anchor=\"middle\" x=\"330.5\" y=\"-97.8\" font-family=\"Times New Roman,serif\" font-size=\"14.00\">c</text>\n",
       "<polyline fill=\"none\" stroke=\"black\" points=\"342,-83.5 342,-119.5 \"/>\n",
       "<text text-anchor=\"middle\" x=\"386\" y=\"-97.8\" font-family=\"Times New Roman,serif\" font-size=\"14.00\">data 10.0000</text>\n",
       "<polyline fill=\"none\" stroke=\"black\" points=\"430,-83.5 430,-119.5 \"/>\n",
       "<text text-anchor=\"middle\" x=\"471.5\" y=\"-97.8\" font-family=\"Times New Roman,serif\" font-size=\"14.00\">grad 0.0000</text>\n",
       "</g>\n",
       "<!-- 2018947856272+ -->\n",
       "<g id=\"node8\" class=\"node\"><title>2018947856272+</title>\n",
       "<ellipse fill=\"none\" stroke=\"black\" cx=\"576\" cy=\"-73.5\" rx=\"27\" ry=\"18\"/>\n",
       "<text text-anchor=\"middle\" x=\"576\" y=\"-69.8\" font-family=\"Times New Roman,serif\" font-size=\"14.00\">+</text>\n",
       "</g>\n",
       "<!-- 2018948193296&#45;&gt;2018947856272+ -->\n",
       "<g id=\"edge9\" class=\"edge\"><title>2018948193296&#45;&gt;2018947856272+</title>\n",
       "<path fill=\"none\" stroke=\"black\" d=\"M513.008,-84.486C522.353,-82.8298 531.366,-81.2327 539.487,-79.7934\"/>\n",
       "<polygon fill=\"black\" stroke=\"black\" points=\"540.368,-83.192 549.604,-78.0006 539.146,-76.2994 540.368,-83.192\"/>\n",
       "</g>\n",
       "<!-- 2018948190944 -->\n",
       "<g id=\"node4\" class=\"node\"><title>2018948190944</title>\n",
       "<polygon fill=\"none\" stroke=\"black\" points=\"0,-56.5 0,-92.5 193,-92.5 193,-56.5 0,-56.5\"/>\n",
       "<text text-anchor=\"middle\" x=\"12\" y=\"-70.8\" font-family=\"Times New Roman,serif\" font-size=\"14.00\">b</text>\n",
       "<polyline fill=\"none\" stroke=\"black\" points=\"24,-56.5 24,-92.5 \"/>\n",
       "<text text-anchor=\"middle\" x=\"67\" y=\"-70.8\" font-family=\"Times New Roman,serif\" font-size=\"14.00\">data &#45;3.0000</text>\n",
       "<polyline fill=\"none\" stroke=\"black\" points=\"110,-56.5 110,-92.5 \"/>\n",
       "<text text-anchor=\"middle\" x=\"151.5\" y=\"-70.8\" font-family=\"Times New Roman,serif\" font-size=\"14.00\">grad 0.0000</text>\n",
       "</g>\n",
       "<!-- 2018947854688* -->\n",
       "<g id=\"node6\" class=\"node\"><title>2018947854688*</title>\n",
       "<ellipse fill=\"none\" stroke=\"black\" cx=\"256\" cy=\"-46.5\" rx=\"27\" ry=\"18\"/>\n",
       "<text text-anchor=\"middle\" x=\"256\" y=\"-42.8\" font-family=\"Times New Roman,serif\" font-size=\"14.00\">*</text>\n",
       "</g>\n",
       "<!-- 2018948190944&#45;&gt;2018947854688* -->\n",
       "<g id=\"edge7\" class=\"edge\"><title>2018948190944&#45;&gt;2018947854688*</title>\n",
       "<path fill=\"none\" stroke=\"black\" d=\"M193.204,-57.486C202.52,-55.8298 211.504,-54.2327 219.599,-52.7934\"/>\n",
       "<polygon fill=\"black\" stroke=\"black\" points=\"220.451,-56.197 229.684,-51.0006 219.226,-49.3051 220.451,-56.197\"/>\n",
       "</g>\n",
       "<!-- 2018947854688 -->\n",
       "<g id=\"node5\" class=\"node\"><title>2018947854688</title>\n",
       "<polygon fill=\"none\" stroke=\"black\" points=\"320,-28.5 320,-64.5 512,-64.5 512,-28.5 320,-28.5\"/>\n",
       "<text text-anchor=\"middle\" x=\"331.5\" y=\"-42.8\" font-family=\"Times New Roman,serif\" font-size=\"14.00\">e</text>\n",
       "<polyline fill=\"none\" stroke=\"black\" points=\"343,-28.5 343,-64.5 \"/>\n",
       "<text text-anchor=\"middle\" x=\"386\" y=\"-42.8\" font-family=\"Times New Roman,serif\" font-size=\"14.00\">data &#45;6.0000</text>\n",
       "<polyline fill=\"none\" stroke=\"black\" points=\"429,-28.5 429,-64.5 \"/>\n",
       "<text text-anchor=\"middle\" x=\"470.5\" y=\"-42.8\" font-family=\"Times New Roman,serif\" font-size=\"14.00\">grad 0.0000</text>\n",
       "</g>\n",
       "<!-- 2018947854688&#45;&gt;2018947856272+ -->\n",
       "<g id=\"edge5\" class=\"edge\"><title>2018947854688&#45;&gt;2018947856272+</title>\n",
       "<path fill=\"none\" stroke=\"black\" d=\"M512.1,-62.7513C521.75,-64.4004 531.066,-65.9923 539.437,-67.4228\"/>\n",
       "<polygon fill=\"black\" stroke=\"black\" points=\"539.043,-70.9061 549.49,-69.1407 540.222,-64.0061 539.043,-70.9061\"/>\n",
       "</g>\n",
       "<!-- 2018947854688*&#45;&gt;2018947854688 -->\n",
       "<g id=\"edge2\" class=\"edge\"><title>2018947854688*&#45;&gt;2018947854688</title>\n",
       "<path fill=\"none\" stroke=\"black\" d=\"M283.09,-46.5C290.897,-46.5 299.979,-46.5 309.656,-46.5\"/>\n",
       "<polygon fill=\"black\" stroke=\"black\" points=\"309.928,-50.0001 319.928,-46.5 309.928,-43.0001 309.928,-50.0001\"/>\n",
       "</g>\n",
       "<!-- 2018947856272 -->\n",
       "<g id=\"node7\" class=\"node\"><title>2018947856272</title>\n",
       "<polygon fill=\"none\" stroke=\"black\" points=\"640,-55.5 640,-91.5 828,-91.5 828,-55.5 640,-55.5\"/>\n",
       "<text text-anchor=\"middle\" x=\"652\" y=\"-69.8\" font-family=\"Times New Roman,serif\" font-size=\"14.00\">d</text>\n",
       "<polyline fill=\"none\" stroke=\"black\" points=\"664,-55.5 664,-91.5 \"/>\n",
       "<text text-anchor=\"middle\" x=\"704.5\" y=\"-69.8\" font-family=\"Times New Roman,serif\" font-size=\"14.00\">data 4.0000</text>\n",
       "<polyline fill=\"none\" stroke=\"black\" points=\"745,-55.5 745,-91.5 \"/>\n",
       "<text text-anchor=\"middle\" x=\"786.5\" y=\"-69.8\" font-family=\"Times New Roman,serif\" font-size=\"14.00\">grad 0.0000</text>\n",
       "</g>\n",
       "<!-- 2018947856272&#45;&gt;2018947855888* -->\n",
       "<g id=\"edge6\" class=\"edge\"><title>2018947856272&#45;&gt;2018947855888*</title>\n",
       "<path fill=\"none\" stroke=\"black\" d=\"M828.448,-56.7273C838.029,-55.0076 847.287,-53.346 855.61,-51.852\"/>\n",
       "<polygon fill=\"black\" stroke=\"black\" points=\"856.383,-55.2693 865.608,-50.0576 855.147,-48.3794 856.383,-55.2693\"/>\n",
       "</g>\n",
       "<!-- 2018947856272+&#45;&gt;2018947856272 -->\n",
       "<g id=\"edge3\" class=\"edge\"><title>2018947856272+&#45;&gt;2018947856272</title>\n",
       "<path fill=\"none\" stroke=\"black\" d=\"M603.111,-73.5C610.9,-73.5 619.953,-73.5 629.587,-73.5\"/>\n",
       "<polygon fill=\"black\" stroke=\"black\" points=\"629.808,-77.0001 639.808,-73.5 629.808,-70.0001 629.808,-77.0001\"/>\n",
       "</g>\n",
       "<!-- 2018948190656 -->\n",
       "<g id=\"node9\" class=\"node\"><title>2018948190656</title>\n",
       "<polygon fill=\"none\" stroke=\"black\" points=\"3,-1.5 3,-37.5 190,-37.5 190,-1.5 3,-1.5\"/>\n",
       "<text text-anchor=\"middle\" x=\"14.5\" y=\"-15.8\" font-family=\"Times New Roman,serif\" font-size=\"14.00\">a</text>\n",
       "<polyline fill=\"none\" stroke=\"black\" points=\"26,-1.5 26,-37.5 \"/>\n",
       "<text text-anchor=\"middle\" x=\"66.5\" y=\"-15.8\" font-family=\"Times New Roman,serif\" font-size=\"14.00\">data 2.0000</text>\n",
       "<polyline fill=\"none\" stroke=\"black\" points=\"107,-1.5 107,-37.5 \"/>\n",
       "<text text-anchor=\"middle\" x=\"148.5\" y=\"-15.8\" font-family=\"Times New Roman,serif\" font-size=\"14.00\">grad 0.0000</text>\n",
       "</g>\n",
       "<!-- 2018948190656&#45;&gt;2018947854688* -->\n",
       "<g id=\"edge8\" class=\"edge\"><title>2018948190656&#45;&gt;2018947854688*</title>\n",
       "<path fill=\"none\" stroke=\"black\" d=\"M190.029,-35.3622C200.521,-37.1608 210.676,-38.9016 219.718,-40.4516\"/>\n",
       "<polygon fill=\"black\" stroke=\"black\" points=\"219.326,-43.9355 229.774,-42.1756 220.509,-37.0362 219.326,-43.9355\"/>\n",
       "</g>\n",
       "<!-- 2018947857904 -->\n",
       "<g id=\"node10\" class=\"node\"><title>2018947857904</title>\n",
       "<polygon fill=\"none\" stroke=\"black\" points=\"639,-0.5 639,-36.5 829,-36.5 829,-0.5 639,-0.5\"/>\n",
       "<text text-anchor=\"middle\" x=\"649.5\" y=\"-14.8\" font-family=\"Times New Roman,serif\" font-size=\"14.00\">f</text>\n",
       "<polyline fill=\"none\" stroke=\"black\" points=\"660,-0.5 660,-36.5 \"/>\n",
       "<text text-anchor=\"middle\" x=\"703\" y=\"-14.8\" font-family=\"Times New Roman,serif\" font-size=\"14.00\">data &#45;2.0000</text>\n",
       "<polyline fill=\"none\" stroke=\"black\" points=\"746,-0.5 746,-36.5 \"/>\n",
       "<text text-anchor=\"middle\" x=\"787.5\" y=\"-14.8\" font-family=\"Times New Roman,serif\" font-size=\"14.00\">grad 0.0000</text>\n",
       "</g>\n",
       "<!-- 2018947857904&#45;&gt;2018947855888* -->\n",
       "<g id=\"edge4\" class=\"edge\"><title>2018947857904&#45;&gt;2018947855888*</title>\n",
       "<path fill=\"none\" stroke=\"black\" d=\"M829.345,-34.8289C838.625,-36.435 847.581,-37.9852 855.657,-39.383\"/>\n",
       "<polygon fill=\"black\" stroke=\"black\" points=\"855.269,-42.8677 865.719,-41.1245 856.463,-35.9702 855.269,-42.8677\"/>\n",
       "</g>\n",
       "</g>\n",
       "</svg>\n"
      ],
      "text/plain": [
       "<graphviz.graphs.Digraph at 0x1d612b09880>"
      ]
     },
     "execution_count": 53,
     "metadata": {},
     "output_type": "execute_result"
    }
   ],
   "source": [
    "draw_dot(L)"
   ]
  },
  {
   "cell_type": "code",
   "execution_count": 55,
   "metadata": {},
   "outputs": [
    {
     "name": "stdout",
     "output_type": "stream",
     "text": [
      "-3.9999999999995595\n"
     ]
    }
   ],
   "source": [
    "def lol():\n",
    "  \n",
    "  h = 0.001\n",
    "  \n",
    "  a = Value3(2.0, label='a')\n",
    "  b = Value3(-3.0, label='b')\n",
    "  c = Value3(10.0, label='c')\n",
    "  e = a*b; e.label = 'e'\n",
    "  d = e + c; d.label = 'd'\n",
    "  f = Value3(-2.0, label='f')\n",
    "  L = d * f; L.label = 'L'\n",
    "  L1 = L.data\n",
    "  \n",
    "  a = Value3(2.0, label='a')\n",
    "  b = Value3(-3.0, label='b')\n",
    "  b.data += h\n",
    "  c = Value3(10.0, label='c')\n",
    "  e = a*b; e.label = 'e'\n",
    "  d = e + c; d.label = 'd'\n",
    "  f = Value3(-2.0, label='f')\n",
    "  L = d * f; L.label = 'L'\n",
    "  L2 = L.data\n",
    "  \n",
    "  print((L2 - L1)/h)\n",
    "  \n",
    "lol()"
   ]
  },
  {
   "cell_type": "code",
   "execution_count": 56,
   "metadata": {},
   "outputs": [
    {
     "name": "stdout",
     "output_type": "stream",
     "text": [
      "6.000000000000227\n"
     ]
    }
   ],
   "source": [
    "def lol():\n",
    "  \n",
    "  h = 0.001\n",
    "  \n",
    "  a = Value3(2.0, label='a')\n",
    "  b = Value3(-3.0, label='b')\n",
    "  c = Value3(10.0, label='c')\n",
    "  e = a*b; e.label = 'e'\n",
    "  d = e + c; d.label = 'd'\n",
    "  f = Value3(-2.0, label='f')\n",
    "  L = d * f; L.label = 'L'\n",
    "  L1 = L.data\n",
    "  \n",
    "  a = Value3(2.0, label='a')\n",
    "  b = Value3(-3.0, label='b')\n",
    "  a.data += h\n",
    "  c = Value3(10.0, label='c')\n",
    "  e = a*b; e.label = 'e'\n",
    "  d = e + c; d.label = 'd'\n",
    "  f = Value3(-2.0, label='f')\n",
    "  L = d * f; L.label = 'L'\n",
    "  L2 = L.data\n",
    "  \n",
    "  print((L2 - L1)/h)\n",
    "  \n",
    "lol()"
   ]
  },
  {
   "cell_type": "code",
   "execution_count": 58,
   "metadata": {},
   "outputs": [
    {
     "name": "stdout",
     "output_type": "stream",
     "text": [
      "-2.000000000000668\n"
     ]
    }
   ],
   "source": [
    "def lol():\n",
    "  \n",
    "  h = 0.001\n",
    "  \n",
    "  a = Value3(2.0, label='a')\n",
    "  b = Value3(-3.0, label='b')\n",
    "  c = Value3(10.0, label='c')\n",
    "  e = a*b; e.label = 'e'\n",
    "  d = e + c; d.label = 'd'\n",
    "  f = Value3(-2.0, label='f')\n",
    "  L = d * f; L.label = 'L'\n",
    "  L1 = L.data\n",
    "  \n",
    "  a = Value3(2.0, label='a')\n",
    "  b = Value3(-3.0, label='b')\n",
    " \n",
    "  c = Value3(10.0, label='c')\n",
    "  e = a*b; e.label = 'e'\n",
    "  d = e + c; d.label = 'd'\n",
    "  d.data += h\n",
    "  f = Value3(-2.0, label='f')\n",
    "  L = d * f; L.label = 'L'\n",
    "  L2 = L.data\n",
    "  \n",
    "  print((L2 - L1)/h)\n",
    "  \n",
    "lol()"
   ]
  },
  {
   "cell_type": "code",
   "execution_count": 59,
   "metadata": {},
   "outputs": [
    {
     "name": "stdout",
     "output_type": "stream",
     "text": [
      "1.000000000000334\n"
     ]
    }
   ],
   "source": [
    "def lol():\n",
    "  \n",
    "  h = 0.001\n",
    "  \n",
    "  a = Value3(2.0, label='a')\n",
    "  b = Value3(-3.0, label='b')\n",
    "  c = Value3(10.0, label='c')\n",
    "  e = a*b; e.label = 'e'\n",
    "  d = e + c; d.label = 'd'\n",
    "  f = Value3(-2.0, label='f')\n",
    "  L = d * f; L.label = 'L'\n",
    "  L1 = L.data\n",
    "  \n",
    "  a = Value3(2.0, label='a')\n",
    "  b = Value3(-3.0, label='b')\n",
    " \n",
    "  c = Value3(10.0, label='c')\n",
    "  e = a*b; e.label = 'e'\n",
    "  d = e + c; d.label = 'd'\n",
    "  #d.data += h\n",
    "  f = Value3(-2.0, label='f')\n",
    "  L = d * f; L.label = 'L'\n",
    "  L2 = L.data + h\n",
    "  \n",
    "  \n",
    "  print((L2 - L1)/h)\n",
    "  \n",
    "lol()"
   ]
  },
  {
   "cell_type": "markdown",
   "metadata": {},
   "source": [
    "L = d*f\n",
    "dL/dd = ? f \n",
    "\n",
    "(f(x+h) - f(x)) / h\n",
    "\n",
    "dL/dd = ((d+h) * f - (d * f)) / h\n",
    "      = (d*f + h*f - d*f) / h\n",
    "      = h*f / h\n",
    "      = f"
   ]
  },
  {
   "cell_type": "code",
   "execution_count": 60,
   "metadata": {},
   "outputs": [
    {
     "data": {
      "image/svg+xml": [
       "<?xml version=\"1.0\" encoding=\"UTF-8\" standalone=\"no\"?>\n",
       "<!DOCTYPE svg PUBLIC \"-//W3C//DTD SVG 1.1//EN\"\n",
       " \"http://www.w3.org/Graphics/SVG/1.1/DTD/svg11.dtd\">\n",
       "<!-- Generated by graphviz version 2.38.0 (20140413.2041)\n",
       " -->\n",
       "<!-- Title: %3 Pages: 1 -->\n",
       "<svg width=\"1159pt\" height=\"128pt\"\n",
       " viewBox=\"0.00 0.00 1159.00 128.00\" xmlns=\"http://www.w3.org/2000/svg\" xmlns:xlink=\"http://www.w3.org/1999/xlink\">\n",
       "<g id=\"graph0\" class=\"graph\" transform=\"scale(1 1) rotate(0) translate(4 124)\">\n",
       "<title>%3</title>\n",
       "<polygon fill=\"white\" stroke=\"none\" points=\"-4,4 -4,-124 1155,-124 1155,4 -4,4\"/>\n",
       "<!-- 2018947855888 -->\n",
       "<g id=\"node1\" class=\"node\"><title>2018947855888</title>\n",
       "<polygon fill=\"none\" stroke=\"black\" points=\"957,-27.5 957,-63.5 1151,-63.5 1151,-27.5 957,-27.5\"/>\n",
       "<text text-anchor=\"middle\" x=\"969.5\" y=\"-41.8\" font-family=\"Times New Roman,serif\" font-size=\"14.00\">L</text>\n",
       "<polyline fill=\"none\" stroke=\"black\" points=\"982,-27.5 982,-63.5 \"/>\n",
       "<text text-anchor=\"middle\" x=\"1025\" y=\"-41.8\" font-family=\"Times New Roman,serif\" font-size=\"14.00\">data &#45;8.0000</text>\n",
       "<polyline fill=\"none\" stroke=\"black\" points=\"1068,-27.5 1068,-63.5 \"/>\n",
       "<text text-anchor=\"middle\" x=\"1109.5\" y=\"-41.8\" font-family=\"Times New Roman,serif\" font-size=\"14.00\">grad 1.0000</text>\n",
       "</g>\n",
       "<!-- 2018947855888* -->\n",
       "<g id=\"node2\" class=\"node\"><title>2018947855888*</title>\n",
       "<ellipse fill=\"none\" stroke=\"black\" cx=\"894\" cy=\"-45.5\" rx=\"27\" ry=\"18\"/>\n",
       "<text text-anchor=\"middle\" x=\"894\" y=\"-41.8\" font-family=\"Times New Roman,serif\" font-size=\"14.00\">*</text>\n",
       "</g>\n",
       "<!-- 2018947855888*&#45;&gt;2018947855888 -->\n",
       "<g id=\"edge1\" class=\"edge\"><title>2018947855888*&#45;&gt;2018947855888</title>\n",
       "<path fill=\"none\" stroke=\"black\" d=\"M921.09,-45.5C928.621,-45.5 937.34,-45.5 946.635,-45.5\"/>\n",
       "<polygon fill=\"black\" stroke=\"black\" points=\"946.918,-49.0001 956.918,-45.5 946.918,-42.0001 946.918,-49.0001\"/>\n",
       "</g>\n",
       "<!-- 2018948193296 -->\n",
       "<g id=\"node3\" class=\"node\"><title>2018948193296</title>\n",
       "<polygon fill=\"none\" stroke=\"black\" points=\"319,-83.5 319,-119.5 513,-119.5 513,-83.5 319,-83.5\"/>\n",
       "<text text-anchor=\"middle\" x=\"330.5\" y=\"-97.8\" font-family=\"Times New Roman,serif\" font-size=\"14.00\">c</text>\n",
       "<polyline fill=\"none\" stroke=\"black\" points=\"342,-83.5 342,-119.5 \"/>\n",
       "<text text-anchor=\"middle\" x=\"386\" y=\"-97.8\" font-family=\"Times New Roman,serif\" font-size=\"14.00\">data 10.0000</text>\n",
       "<polyline fill=\"none\" stroke=\"black\" points=\"430,-83.5 430,-119.5 \"/>\n",
       "<text text-anchor=\"middle\" x=\"471.5\" y=\"-97.8\" font-family=\"Times New Roman,serif\" font-size=\"14.00\">grad 0.0000</text>\n",
       "</g>\n",
       "<!-- 2018947856272+ -->\n",
       "<g id=\"node8\" class=\"node\"><title>2018947856272+</title>\n",
       "<ellipse fill=\"none\" stroke=\"black\" cx=\"576\" cy=\"-73.5\" rx=\"27\" ry=\"18\"/>\n",
       "<text text-anchor=\"middle\" x=\"576\" y=\"-69.8\" font-family=\"Times New Roman,serif\" font-size=\"14.00\">+</text>\n",
       "</g>\n",
       "<!-- 2018948193296&#45;&gt;2018947856272+ -->\n",
       "<g id=\"edge9\" class=\"edge\"><title>2018948193296&#45;&gt;2018947856272+</title>\n",
       "<path fill=\"none\" stroke=\"black\" d=\"M513.008,-84.486C522.353,-82.8298 531.366,-81.2327 539.487,-79.7934\"/>\n",
       "<polygon fill=\"black\" stroke=\"black\" points=\"540.368,-83.192 549.604,-78.0006 539.146,-76.2994 540.368,-83.192\"/>\n",
       "</g>\n",
       "<!-- 2018948190944 -->\n",
       "<g id=\"node4\" class=\"node\"><title>2018948190944</title>\n",
       "<polygon fill=\"none\" stroke=\"black\" points=\"0,-56.5 0,-92.5 193,-92.5 193,-56.5 0,-56.5\"/>\n",
       "<text text-anchor=\"middle\" x=\"12\" y=\"-70.8\" font-family=\"Times New Roman,serif\" font-size=\"14.00\">b</text>\n",
       "<polyline fill=\"none\" stroke=\"black\" points=\"24,-56.5 24,-92.5 \"/>\n",
       "<text text-anchor=\"middle\" x=\"67\" y=\"-70.8\" font-family=\"Times New Roman,serif\" font-size=\"14.00\">data &#45;3.0000</text>\n",
       "<polyline fill=\"none\" stroke=\"black\" points=\"110,-56.5 110,-92.5 \"/>\n",
       "<text text-anchor=\"middle\" x=\"151.5\" y=\"-70.8\" font-family=\"Times New Roman,serif\" font-size=\"14.00\">grad 0.0000</text>\n",
       "</g>\n",
       "<!-- 2018947854688* -->\n",
       "<g id=\"node6\" class=\"node\"><title>2018947854688*</title>\n",
       "<ellipse fill=\"none\" stroke=\"black\" cx=\"256\" cy=\"-46.5\" rx=\"27\" ry=\"18\"/>\n",
       "<text text-anchor=\"middle\" x=\"256\" y=\"-42.8\" font-family=\"Times New Roman,serif\" font-size=\"14.00\">*</text>\n",
       "</g>\n",
       "<!-- 2018948190944&#45;&gt;2018947854688* -->\n",
       "<g id=\"edge7\" class=\"edge\"><title>2018948190944&#45;&gt;2018947854688*</title>\n",
       "<path fill=\"none\" stroke=\"black\" d=\"M193.204,-57.486C202.52,-55.8298 211.504,-54.2327 219.599,-52.7934\"/>\n",
       "<polygon fill=\"black\" stroke=\"black\" points=\"220.451,-56.197 229.684,-51.0006 219.226,-49.3051 220.451,-56.197\"/>\n",
       "</g>\n",
       "<!-- 2018947854688 -->\n",
       "<g id=\"node5\" class=\"node\"><title>2018947854688</title>\n",
       "<polygon fill=\"none\" stroke=\"black\" points=\"320,-28.5 320,-64.5 512,-64.5 512,-28.5 320,-28.5\"/>\n",
       "<text text-anchor=\"middle\" x=\"331.5\" y=\"-42.8\" font-family=\"Times New Roman,serif\" font-size=\"14.00\">e</text>\n",
       "<polyline fill=\"none\" stroke=\"black\" points=\"343,-28.5 343,-64.5 \"/>\n",
       "<text text-anchor=\"middle\" x=\"386\" y=\"-42.8\" font-family=\"Times New Roman,serif\" font-size=\"14.00\">data &#45;6.0000</text>\n",
       "<polyline fill=\"none\" stroke=\"black\" points=\"429,-28.5 429,-64.5 \"/>\n",
       "<text text-anchor=\"middle\" x=\"470.5\" y=\"-42.8\" font-family=\"Times New Roman,serif\" font-size=\"14.00\">grad 0.0000</text>\n",
       "</g>\n",
       "<!-- 2018947854688&#45;&gt;2018947856272+ -->\n",
       "<g id=\"edge5\" class=\"edge\"><title>2018947854688&#45;&gt;2018947856272+</title>\n",
       "<path fill=\"none\" stroke=\"black\" d=\"M512.1,-62.7513C521.75,-64.4004 531.066,-65.9923 539.437,-67.4228\"/>\n",
       "<polygon fill=\"black\" stroke=\"black\" points=\"539.043,-70.9061 549.49,-69.1407 540.222,-64.0061 539.043,-70.9061\"/>\n",
       "</g>\n",
       "<!-- 2018947854688*&#45;&gt;2018947854688 -->\n",
       "<g id=\"edge2\" class=\"edge\"><title>2018947854688*&#45;&gt;2018947854688</title>\n",
       "<path fill=\"none\" stroke=\"black\" d=\"M283.09,-46.5C290.897,-46.5 299.979,-46.5 309.656,-46.5\"/>\n",
       "<polygon fill=\"black\" stroke=\"black\" points=\"309.928,-50.0001 319.928,-46.5 309.928,-43.0001 309.928,-50.0001\"/>\n",
       "</g>\n",
       "<!-- 2018947856272 -->\n",
       "<g id=\"node7\" class=\"node\"><title>2018947856272</title>\n",
       "<polygon fill=\"none\" stroke=\"black\" points=\"639,-55.5 639,-91.5 831,-91.5 831,-55.5 639,-55.5\"/>\n",
       "<text text-anchor=\"middle\" x=\"651\" y=\"-69.8\" font-family=\"Times New Roman,serif\" font-size=\"14.00\">d</text>\n",
       "<polyline fill=\"none\" stroke=\"black\" points=\"663,-55.5 663,-91.5 \"/>\n",
       "<text text-anchor=\"middle\" x=\"703.5\" y=\"-69.8\" font-family=\"Times New Roman,serif\" font-size=\"14.00\">data 4.0000</text>\n",
       "<polyline fill=\"none\" stroke=\"black\" points=\"744,-55.5 744,-91.5 \"/>\n",
       "<text text-anchor=\"middle\" x=\"787.5\" y=\"-69.8\" font-family=\"Times New Roman,serif\" font-size=\"14.00\">grad &#45;2.0000</text>\n",
       "</g>\n",
       "<!-- 2018947856272&#45;&gt;2018947855888* -->\n",
       "<g id=\"edge6\" class=\"edge\"><title>2018947856272&#45;&gt;2018947855888*</title>\n",
       "<path fill=\"none\" stroke=\"black\" d=\"M831.4,-56.486C840.686,-54.8298 849.642,-53.2327 857.712,-51.7934\"/>\n",
       "<polygon fill=\"black\" stroke=\"black\" points=\"858.534,-55.2021 867.764,-50.0006 857.305,-48.3108 858.534,-55.2021\"/>\n",
       "</g>\n",
       "<!-- 2018947856272+&#45;&gt;2018947856272 -->\n",
       "<g id=\"edge3\" class=\"edge\"><title>2018947856272+&#45;&gt;2018947856272</title>\n",
       "<path fill=\"none\" stroke=\"black\" d=\"M603.278,-73.5C610.779,-73.5 619.443,-73.5 628.67,-73.5\"/>\n",
       "<polygon fill=\"black\" stroke=\"black\" points=\"628.874,-77.0001 638.874,-73.5 628.874,-70.0001 628.874,-77.0001\"/>\n",
       "</g>\n",
       "<!-- 2018948190656 -->\n",
       "<g id=\"node9\" class=\"node\"><title>2018948190656</title>\n",
       "<polygon fill=\"none\" stroke=\"black\" points=\"3,-1.5 3,-37.5 190,-37.5 190,-1.5 3,-1.5\"/>\n",
       "<text text-anchor=\"middle\" x=\"14.5\" y=\"-15.8\" font-family=\"Times New Roman,serif\" font-size=\"14.00\">a</text>\n",
       "<polyline fill=\"none\" stroke=\"black\" points=\"26,-1.5 26,-37.5 \"/>\n",
       "<text text-anchor=\"middle\" x=\"66.5\" y=\"-15.8\" font-family=\"Times New Roman,serif\" font-size=\"14.00\">data 2.0000</text>\n",
       "<polyline fill=\"none\" stroke=\"black\" points=\"107,-1.5 107,-37.5 \"/>\n",
       "<text text-anchor=\"middle\" x=\"148.5\" y=\"-15.8\" font-family=\"Times New Roman,serif\" font-size=\"14.00\">grad 0.0000</text>\n",
       "</g>\n",
       "<!-- 2018948190656&#45;&gt;2018947854688* -->\n",
       "<g id=\"edge8\" class=\"edge\"><title>2018948190656&#45;&gt;2018947854688*</title>\n",
       "<path fill=\"none\" stroke=\"black\" d=\"M190.029,-35.3622C200.521,-37.1608 210.676,-38.9016 219.718,-40.4516\"/>\n",
       "<polygon fill=\"black\" stroke=\"black\" points=\"219.326,-43.9355 229.774,-42.1756 220.509,-37.0362 219.326,-43.9355\"/>\n",
       "</g>\n",
       "<!-- 2018947857904 -->\n",
       "<g id=\"node10\" class=\"node\"><title>2018947857904</title>\n",
       "<polygon fill=\"none\" stroke=\"black\" points=\"640,-0.5 640,-36.5 830,-36.5 830,-0.5 640,-0.5\"/>\n",
       "<text text-anchor=\"middle\" x=\"650.5\" y=\"-14.8\" font-family=\"Times New Roman,serif\" font-size=\"14.00\">f</text>\n",
       "<polyline fill=\"none\" stroke=\"black\" points=\"661,-0.5 661,-36.5 \"/>\n",
       "<text text-anchor=\"middle\" x=\"704\" y=\"-14.8\" font-family=\"Times New Roman,serif\" font-size=\"14.00\">data &#45;2.0000</text>\n",
       "<polyline fill=\"none\" stroke=\"black\" points=\"747,-0.5 747,-36.5 \"/>\n",
       "<text text-anchor=\"middle\" x=\"788.5\" y=\"-14.8\" font-family=\"Times New Roman,serif\" font-size=\"14.00\">grad 4.0000</text>\n",
       "</g>\n",
       "<!-- 2018947857904&#45;&gt;2018947855888* -->\n",
       "<g id=\"edge4\" class=\"edge\"><title>2018947857904&#45;&gt;2018947855888*</title>\n",
       "<path fill=\"none\" stroke=\"black\" d=\"M830.047,-34.6736C839.781,-36.3478 849.184,-37.9647 857.622,-39.4159\"/>\n",
       "<polygon fill=\"black\" stroke=\"black\" points=\"857.299,-42.9117 867.748,-41.1573 858.486,-36.013 857.299,-42.9117\"/>\n",
       "</g>\n",
       "</g>\n",
       "</svg>\n"
      ],
      "text/plain": [
       "<graphviz.graphs.Digraph at 0x1d612b09340>"
      ]
     },
     "execution_count": 60,
     "metadata": {},
     "output_type": "execute_result"
    }
   ],
   "source": [
    "L.grad = 1.0\n",
    "d.grad = -2.0\n",
    "f.grad = 4.0\n",
    "draw_dot(L)"
   ]
  },
  {
   "cell_type": "code",
   "execution_count": 61,
   "metadata": {},
   "outputs": [
    {
     "name": "stdout",
     "output_type": "stream",
     "text": [
      "3.9999999999995595\n"
     ]
    }
   ],
   "source": [
    "def lol():\n",
    "  \n",
    "  h = 0.001\n",
    "  \n",
    "  a = Value3(2.0, label='a')\n",
    "  b = Value3(-3.0, label='b')\n",
    "  c = Value3(10.0, label='c')\n",
    "  e = a*b; e.label = 'e'\n",
    "  d = e + c; d.label = 'd'\n",
    "  f = Value3(-2.0, label='f')\n",
    "  L = d * f; L.label = 'L'\n",
    "  L1 = L.data\n",
    "  \n",
    "  a = Value3(2.0, label='a')\n",
    "  b = Value3(-3.0, label='b')\n",
    " \n",
    "  c = Value3(10.0, label='c')\n",
    "  e = a*b; e.label = 'e'\n",
    "  d = e + c; d.label = 'd'\n",
    "  \n",
    "  f = Value3(-2.0, label='f')\n",
    "  f.data += h\n",
    "    \n",
    "  L = d * f; L.label = 'L'\n",
    "  L2 = L.data \n",
    "  \n",
    "  \n",
    "  print((L2 - L1)/h)\n",
    "  \n",
    "lol()"
   ]
  },
  {
   "cell_type": "code",
   "execution_count": 62,
   "metadata": {},
   "outputs": [
    {
     "name": "stdout",
     "output_type": "stream",
     "text": [
      "-2.000000000000668\n"
     ]
    }
   ],
   "source": [
    "def lol():\n",
    "  \n",
    "  h = 0.001\n",
    "  \n",
    "  a = Value3(2.0, label='a')\n",
    "  b = Value3(-3.0, label='b')\n",
    "  c = Value3(10.0, label='c')\n",
    "  e = a*b; e.label = 'e'\n",
    "  d = e + c; d.label = 'd'\n",
    "  f = Value3(-2.0, label='f')\n",
    "  L = d * f; L.label = 'L'\n",
    "  L1 = L.data\n",
    "  \n",
    "  a = Value3(2.0, label='a')\n",
    "  b = Value3(-3.0, label='b')\n",
    " \n",
    "  c = Value3(10.0, label='c')\n",
    "  e = a*b; e.label = 'e'\n",
    "  d = e + c; d.label = 'd'\n",
    "  d.data += h\n",
    "  \n",
    "  f = Value3(-2.0, label='f')\n",
    "\n",
    "    \n",
    "  L = d * f; L.label = 'L'\n",
    "  L2 = L.data \n",
    "  \n",
    "  \n",
    "  print((L2 - L1)/h)\n",
    "  \n",
    "lol()"
   ]
  },
  {
   "cell_type": "markdown",
   "metadata": {},
   "source": [
    "dL / dc = ? \n",
    "\n",
    "dd/dc = ? 1.0\n",
    "\n",
    "d = c + e\n",
    "\n",
    "(f(x+h) - f(x)) / h\n",
    "\n",
    "(((c+h) + e) - (c + e)) / h\n",
    "\n",
    "h / h = 1.0\n",
    "\n",
    "dd/de = 1.0\n",
    "\n",
    "\n",
    "WANT:\n",
    "dL / dc = (dL/dd) * (dd/dc)\n",
    "\n",
    "KNOW:\n",
    "dL / dd\n",
    "dd/dc"
   ]
  },
  {
   "cell_type": "code",
   "execution_count": 64,
   "metadata": {},
   "outputs": [],
   "source": [
    "c.grad = -2.0*1\n",
    "e.grad = -2.0*1"
   ]
  },
  {
   "cell_type": "code",
   "execution_count": 65,
   "metadata": {},
   "outputs": [
    {
     "data": {
      "image/svg+xml": [
       "<?xml version=\"1.0\" encoding=\"UTF-8\" standalone=\"no\"?>\n",
       "<!DOCTYPE svg PUBLIC \"-//W3C//DTD SVG 1.1//EN\"\n",
       " \"http://www.w3.org/Graphics/SVG/1.1/DTD/svg11.dtd\">\n",
       "<!-- Generated by graphviz version 2.38.0 (20140413.2041)\n",
       " -->\n",
       "<!-- Title: %3 Pages: 1 -->\n",
       "<svg width=\"1163pt\" height=\"128pt\"\n",
       " viewBox=\"0.00 0.00 1163.00 128.00\" xmlns=\"http://www.w3.org/2000/svg\" xmlns:xlink=\"http://www.w3.org/1999/xlink\">\n",
       "<g id=\"graph0\" class=\"graph\" transform=\"scale(1 1) rotate(0) translate(4 124)\">\n",
       "<title>%3</title>\n",
       "<polygon fill=\"white\" stroke=\"none\" points=\"-4,4 -4,-124 1159,-124 1159,4 -4,4\"/>\n",
       "<!-- 2018947855888 -->\n",
       "<g id=\"node1\" class=\"node\"><title>2018947855888</title>\n",
       "<polygon fill=\"none\" stroke=\"black\" points=\"961,-27.5 961,-63.5 1155,-63.5 1155,-27.5 961,-27.5\"/>\n",
       "<text text-anchor=\"middle\" x=\"973.5\" y=\"-41.8\" font-family=\"Times New Roman,serif\" font-size=\"14.00\">L</text>\n",
       "<polyline fill=\"none\" stroke=\"black\" points=\"986,-27.5 986,-63.5 \"/>\n",
       "<text text-anchor=\"middle\" x=\"1029\" y=\"-41.8\" font-family=\"Times New Roman,serif\" font-size=\"14.00\">data &#45;8.0000</text>\n",
       "<polyline fill=\"none\" stroke=\"black\" points=\"1072,-27.5 1072,-63.5 \"/>\n",
       "<text text-anchor=\"middle\" x=\"1113.5\" y=\"-41.8\" font-family=\"Times New Roman,serif\" font-size=\"14.00\">grad 1.0000</text>\n",
       "</g>\n",
       "<!-- 2018947855888* -->\n",
       "<g id=\"node2\" class=\"node\"><title>2018947855888*</title>\n",
       "<ellipse fill=\"none\" stroke=\"black\" cx=\"898\" cy=\"-45.5\" rx=\"27\" ry=\"18\"/>\n",
       "<text text-anchor=\"middle\" x=\"898\" y=\"-41.8\" font-family=\"Times New Roman,serif\" font-size=\"14.00\">*</text>\n",
       "</g>\n",
       "<!-- 2018947855888*&#45;&gt;2018947855888 -->\n",
       "<g id=\"edge1\" class=\"edge\"><title>2018947855888*&#45;&gt;2018947855888</title>\n",
       "<path fill=\"none\" stroke=\"black\" d=\"M925.09,-45.5C932.621,-45.5 941.34,-45.5 950.635,-45.5\"/>\n",
       "<polygon fill=\"black\" stroke=\"black\" points=\"950.918,-49.0001 960.918,-45.5 950.918,-42.0001 950.918,-49.0001\"/>\n",
       "</g>\n",
       "<!-- 2018948193296 -->\n",
       "<g id=\"node3\" class=\"node\"><title>2018948193296</title>\n",
       "<polygon fill=\"none\" stroke=\"black\" points=\"319,-83.5 319,-119.5 517,-119.5 517,-83.5 319,-83.5\"/>\n",
       "<text text-anchor=\"middle\" x=\"330.5\" y=\"-97.8\" font-family=\"Times New Roman,serif\" font-size=\"14.00\">c</text>\n",
       "<polyline fill=\"none\" stroke=\"black\" points=\"342,-83.5 342,-119.5 \"/>\n",
       "<text text-anchor=\"middle\" x=\"386\" y=\"-97.8\" font-family=\"Times New Roman,serif\" font-size=\"14.00\">data 10.0000</text>\n",
       "<polyline fill=\"none\" stroke=\"black\" points=\"430,-83.5 430,-119.5 \"/>\n",
       "<text text-anchor=\"middle\" x=\"473.5\" y=\"-97.8\" font-family=\"Times New Roman,serif\" font-size=\"14.00\">grad &#45;2.0000</text>\n",
       "</g>\n",
       "<!-- 2018947856272+ -->\n",
       "<g id=\"node8\" class=\"node\"><title>2018947856272+</title>\n",
       "<ellipse fill=\"none\" stroke=\"black\" cx=\"580\" cy=\"-73.5\" rx=\"27\" ry=\"18\"/>\n",
       "<text text-anchor=\"middle\" x=\"580\" y=\"-69.8\" font-family=\"Times New Roman,serif\" font-size=\"14.00\">+</text>\n",
       "</g>\n",
       "<!-- 2018948193296&#45;&gt;2018947856272+ -->\n",
       "<g id=\"edge9\" class=\"edge\"><title>2018948193296&#45;&gt;2018947856272+</title>\n",
       "<path fill=\"none\" stroke=\"black\" d=\"M517.14,-84.3255C526.495,-82.6884 535.501,-81.1123 543.608,-79.6935\"/>\n",
       "<polygon fill=\"black\" stroke=\"black\" points=\"544.456,-83.0985 553.703,-77.927 543.249,-76.2033 544.456,-83.0985\"/>\n",
       "</g>\n",
       "<!-- 2018948190944 -->\n",
       "<g id=\"node4\" class=\"node\"><title>2018948190944</title>\n",
       "<polygon fill=\"none\" stroke=\"black\" points=\"0,-56.5 0,-92.5 193,-92.5 193,-56.5 0,-56.5\"/>\n",
       "<text text-anchor=\"middle\" x=\"12\" y=\"-70.8\" font-family=\"Times New Roman,serif\" font-size=\"14.00\">b</text>\n",
       "<polyline fill=\"none\" stroke=\"black\" points=\"24,-56.5 24,-92.5 \"/>\n",
       "<text text-anchor=\"middle\" x=\"67\" y=\"-70.8\" font-family=\"Times New Roman,serif\" font-size=\"14.00\">data &#45;3.0000</text>\n",
       "<polyline fill=\"none\" stroke=\"black\" points=\"110,-56.5 110,-92.5 \"/>\n",
       "<text text-anchor=\"middle\" x=\"151.5\" y=\"-70.8\" font-family=\"Times New Roman,serif\" font-size=\"14.00\">grad 0.0000</text>\n",
       "</g>\n",
       "<!-- 2018947854688* -->\n",
       "<g id=\"node6\" class=\"node\"><title>2018947854688*</title>\n",
       "<ellipse fill=\"none\" stroke=\"black\" cx=\"256\" cy=\"-46.5\" rx=\"27\" ry=\"18\"/>\n",
       "<text text-anchor=\"middle\" x=\"256\" y=\"-42.8\" font-family=\"Times New Roman,serif\" font-size=\"14.00\">*</text>\n",
       "</g>\n",
       "<!-- 2018948190944&#45;&gt;2018947854688* -->\n",
       "<g id=\"edge7\" class=\"edge\"><title>2018948190944&#45;&gt;2018947854688*</title>\n",
       "<path fill=\"none\" stroke=\"black\" d=\"M193.204,-57.486C202.52,-55.8298 211.504,-54.2327 219.599,-52.7934\"/>\n",
       "<polygon fill=\"black\" stroke=\"black\" points=\"220.451,-56.197 229.684,-51.0006 219.226,-49.3051 220.451,-56.197\"/>\n",
       "</g>\n",
       "<!-- 2018947854688 -->\n",
       "<g id=\"node5\" class=\"node\"><title>2018947854688</title>\n",
       "<polygon fill=\"none\" stroke=\"black\" points=\"320,-28.5 320,-64.5 516,-64.5 516,-28.5 320,-28.5\"/>\n",
       "<text text-anchor=\"middle\" x=\"331.5\" y=\"-42.8\" font-family=\"Times New Roman,serif\" font-size=\"14.00\">e</text>\n",
       "<polyline fill=\"none\" stroke=\"black\" points=\"343,-28.5 343,-64.5 \"/>\n",
       "<text text-anchor=\"middle\" x=\"386\" y=\"-42.8\" font-family=\"Times New Roman,serif\" font-size=\"14.00\">data &#45;6.0000</text>\n",
       "<polyline fill=\"none\" stroke=\"black\" points=\"429,-28.5 429,-64.5 \"/>\n",
       "<text text-anchor=\"middle\" x=\"472.5\" y=\"-42.8\" font-family=\"Times New Roman,serif\" font-size=\"14.00\">grad &#45;2.0000</text>\n",
       "</g>\n",
       "<!-- 2018947854688&#45;&gt;2018947856272+ -->\n",
       "<g id=\"edge5\" class=\"edge\"><title>2018947854688&#45;&gt;2018947856272+</title>\n",
       "<path fill=\"none\" stroke=\"black\" d=\"M516.223,-62.9064C525.885,-64.5369 535.196,-66.108 543.553,-67.5184\"/>\n",
       "<polygon fill=\"black\" stroke=\"black\" points=\"543.142,-70.9984 553.585,-69.2113 544.307,-64.096 543.142,-70.9984\"/>\n",
       "</g>\n",
       "<!-- 2018947854688*&#45;&gt;2018947854688 -->\n",
       "<g id=\"edge2\" class=\"edge\"><title>2018947854688*&#45;&gt;2018947854688</title>\n",
       "<path fill=\"none\" stroke=\"black\" d=\"M283.063,-46.5C290.818,-46.5 299.839,-46.5 309.466,-46.5\"/>\n",
       "<polygon fill=\"black\" stroke=\"black\" points=\"309.689,-50.0001 319.689,-46.5 309.689,-43.0001 309.689,-50.0001\"/>\n",
       "</g>\n",
       "<!-- 2018947856272 -->\n",
       "<g id=\"node7\" class=\"node\"><title>2018947856272</title>\n",
       "<polygon fill=\"none\" stroke=\"black\" points=\"643,-55.5 643,-91.5 835,-91.5 835,-55.5 643,-55.5\"/>\n",
       "<text text-anchor=\"middle\" x=\"655\" y=\"-69.8\" font-family=\"Times New Roman,serif\" font-size=\"14.00\">d</text>\n",
       "<polyline fill=\"none\" stroke=\"black\" points=\"667,-55.5 667,-91.5 \"/>\n",
       "<text text-anchor=\"middle\" x=\"707.5\" y=\"-69.8\" font-family=\"Times New Roman,serif\" font-size=\"14.00\">data 4.0000</text>\n",
       "<polyline fill=\"none\" stroke=\"black\" points=\"748,-55.5 748,-91.5 \"/>\n",
       "<text text-anchor=\"middle\" x=\"791.5\" y=\"-69.8\" font-family=\"Times New Roman,serif\" font-size=\"14.00\">grad &#45;2.0000</text>\n",
       "</g>\n",
       "<!-- 2018947856272&#45;&gt;2018947855888* -->\n",
       "<g id=\"edge6\" class=\"edge\"><title>2018947856272&#45;&gt;2018947855888*</title>\n",
       "<path fill=\"none\" stroke=\"black\" d=\"M835.4,-56.486C844.686,-54.8298 853.642,-53.2327 861.712,-51.7934\"/>\n",
       "<polygon fill=\"black\" stroke=\"black\" points=\"862.534,-55.2021 871.764,-50.0006 861.305,-48.3108 862.534,-55.2021\"/>\n",
       "</g>\n",
       "<!-- 2018947856272+&#45;&gt;2018947856272 -->\n",
       "<g id=\"edge3\" class=\"edge\"><title>2018947856272+&#45;&gt;2018947856272</title>\n",
       "<path fill=\"none\" stroke=\"black\" d=\"M607.278,-73.5C614.779,-73.5 623.443,-73.5 632.67,-73.5\"/>\n",
       "<polygon fill=\"black\" stroke=\"black\" points=\"632.874,-77.0001 642.874,-73.5 632.874,-70.0001 632.874,-77.0001\"/>\n",
       "</g>\n",
       "<!-- 2018948190656 -->\n",
       "<g id=\"node9\" class=\"node\"><title>2018948190656</title>\n",
       "<polygon fill=\"none\" stroke=\"black\" points=\"3,-1.5 3,-37.5 190,-37.5 190,-1.5 3,-1.5\"/>\n",
       "<text text-anchor=\"middle\" x=\"14.5\" y=\"-15.8\" font-family=\"Times New Roman,serif\" font-size=\"14.00\">a</text>\n",
       "<polyline fill=\"none\" stroke=\"black\" points=\"26,-1.5 26,-37.5 \"/>\n",
       "<text text-anchor=\"middle\" x=\"66.5\" y=\"-15.8\" font-family=\"Times New Roman,serif\" font-size=\"14.00\">data 2.0000</text>\n",
       "<polyline fill=\"none\" stroke=\"black\" points=\"107,-1.5 107,-37.5 \"/>\n",
       "<text text-anchor=\"middle\" x=\"148.5\" y=\"-15.8\" font-family=\"Times New Roman,serif\" font-size=\"14.00\">grad 0.0000</text>\n",
       "</g>\n",
       "<!-- 2018948190656&#45;&gt;2018947854688* -->\n",
       "<g id=\"edge8\" class=\"edge\"><title>2018948190656&#45;&gt;2018947854688*</title>\n",
       "<path fill=\"none\" stroke=\"black\" d=\"M190.029,-35.3622C200.521,-37.1608 210.676,-38.9016 219.718,-40.4516\"/>\n",
       "<polygon fill=\"black\" stroke=\"black\" points=\"219.326,-43.9355 229.774,-42.1756 220.509,-37.0362 219.326,-43.9355\"/>\n",
       "</g>\n",
       "<!-- 2018947857904 -->\n",
       "<g id=\"node10\" class=\"node\"><title>2018947857904</title>\n",
       "<polygon fill=\"none\" stroke=\"black\" points=\"644,-0.5 644,-36.5 834,-36.5 834,-0.5 644,-0.5\"/>\n",
       "<text text-anchor=\"middle\" x=\"654.5\" y=\"-14.8\" font-family=\"Times New Roman,serif\" font-size=\"14.00\">f</text>\n",
       "<polyline fill=\"none\" stroke=\"black\" points=\"665,-0.5 665,-36.5 \"/>\n",
       "<text text-anchor=\"middle\" x=\"708\" y=\"-14.8\" font-family=\"Times New Roman,serif\" font-size=\"14.00\">data &#45;2.0000</text>\n",
       "<polyline fill=\"none\" stroke=\"black\" points=\"751,-0.5 751,-36.5 \"/>\n",
       "<text text-anchor=\"middle\" x=\"792.5\" y=\"-14.8\" font-family=\"Times New Roman,serif\" font-size=\"14.00\">grad 4.0000</text>\n",
       "</g>\n",
       "<!-- 2018947857904&#45;&gt;2018947855888* -->\n",
       "<g id=\"edge4\" class=\"edge\"><title>2018947857904&#45;&gt;2018947855888*</title>\n",
       "<path fill=\"none\" stroke=\"black\" d=\"M834.047,-34.6736C843.781,-36.3478 853.184,-37.9647 861.622,-39.4159\"/>\n",
       "<polygon fill=\"black\" stroke=\"black\" points=\"861.299,-42.9117 871.748,-41.1573 862.486,-36.013 861.299,-42.9117\"/>\n",
       "</g>\n",
       "</g>\n",
       "</svg>\n"
      ],
      "text/plain": [
       "<graphviz.graphs.Digraph at 0x1d612b09520>"
      ]
     },
     "execution_count": 65,
     "metadata": {},
     "output_type": "execute_result"
    }
   ],
   "source": [
    "draw_dot(L)"
   ]
  },
  {
   "cell_type": "code",
   "execution_count": 68,
   "metadata": {},
   "outputs": [
    {
     "name": "stdout",
     "output_type": "stream",
     "text": [
      "-2.000000000000668\n"
     ]
    }
   ],
   "source": [
    "def lol():\n",
    "  \n",
    "  h = 0.001\n",
    "  \n",
    "  a = Value3(2.0, label='a')\n",
    "  b = Value3(-3.0, label='b')\n",
    "  c = Value3(10.0, label='c')\n",
    "  e = a*b; e.label = 'e'\n",
    "  d = e + c; d.label = 'd'\n",
    "  f = Value3(-2.0, label='f')\n",
    "  L = d * f; L.label = 'L'\n",
    "  L1 = L.data\n",
    "  \n",
    "  a = Value3(2.0, label='a')\n",
    "  b = Value3(-3.0, label='b')\n",
    " \n",
    "  c = Value3(10.0, label='c')\n",
    "  e = a*b; e.label = 'e'\n",
    "  e.data += h\n",
    "  d = e + c; d.label = 'd'\n",
    "  \n",
    "  \n",
    "  f = Value3(-2.0, label='f')\n",
    "\n",
    "    \n",
    "  L = d * f; L.label = 'L'\n",
    "  L2 = L.data \n",
    "  \n",
    "  \n",
    "  print((L2 - L1)/h)\n",
    "  \n",
    "lol()"
   ]
  },
  {
   "cell_type": "code",
   "execution_count": null,
   "metadata": {},
   "outputs": [],
   "source": []
  },
  {
   "cell_type": "code",
   "execution_count": null,
   "metadata": {},
   "outputs": [],
   "source": []
  },
  {
   "cell_type": "code",
   "execution_count": null,
   "metadata": {},
   "outputs": [],
   "source": []
  },
  {
   "cell_type": "code",
   "execution_count": null,
   "metadata": {},
   "outputs": [],
   "source": [
    "class Value:\n",
    "  \n",
    "  def __init__(self, data, _children=(), _op='', label=''):\n",
    "    self.data = data\n",
    "    self.grad = 0.0\n",
    "    self._backward = lambda: None\n",
    "    self._prev = set(_children)\n",
    "    self._op = _op\n",
    "    self.label = label\n",
    "\n",
    "  def __repr__(self):\n",
    "    return f\"Value(data={self.data})\"\n",
    "  \n",
    "  def __add__(self, other):\n",
    "    out = Value(self.data + other.data, (self, other), '+')\n",
    "    \n",
    "    def _backward():\n",
    "      self.grad += 1.0 * out.grad\n",
    "      other.grad += 1.0 * out.grad\n",
    "    out._backward = _backward\n",
    "    \n",
    "    return out\n",
    "\n",
    "  def __mul__(self, other):\n",
    "    out = Value(self.data * other.data, (self, other), '*')\n",
    "    \n",
    "    def _backward():\n",
    "      self.grad += other.data * out.grad\n",
    "      other.grad += self.data * out.grad\n",
    "    out._backward = _backward\n",
    "      \n",
    "    return out\n",
    "  \n",
    "  def tanh(self):\n",
    "    x = self.data\n",
    "    t = (math.exp(2*x) - 1)/(math.exp(2*x) + 1)\n",
    "    out = Value(t, (self, ), 'tanh')\n",
    "    \n",
    "    def _backward():\n",
    "      self.grad += (1 - t**2) * out.grad\n",
    "    out._backward = _backward\n",
    "    \n",
    "    return out\n",
    "  \n",
    "  def backward(self):\n",
    "    \n",
    "    topo = []\n",
    "    visited = set()\n",
    "    def build_topo(v):\n",
    "      if v not in visited:\n",
    "        visited.add(v)\n",
    "        for child in v._prev:\n",
    "          build_topo(child)\n",
    "        topo.append(v)\n",
    "    build_topo(self)\n",
    "    \n",
    "    self.grad = 1.0\n",
    "    for node in reversed(topo):\n",
    "      node._backward()\n",
    "\n",
    "\n",
    "a = Value(2.0, label='a')\n",
    "b = Value(-3.0, label='b')\n",
    "c = Value(10.0, label='c')\n",
    "e = a*b; e.label = 'e'\n",
    "d = e + c; d.label = 'd'\n",
    "f = Value(-2.0, label='f')\n",
    "L = d * f; L.label = 'L'\n",
    "L"
   ]
  },
  {
   "cell_type": "code",
   "execution_count": null,
   "metadata": {},
   "outputs": [],
   "source": [
    "from graphviz import Digraph\n",
    "\n",
    "def trace(root):\n",
    "  # builds a set of all nodes and edges in a graph\n",
    "  nodes, edges = set(), set()\n",
    "  def build(v):\n",
    "    if v not in nodes:\n",
    "      nodes.add(v)\n",
    "      for child in v._prev:\n",
    "        edges.add((child, v))\n",
    "        build(child)\n",
    "  build(root)\n",
    "  return nodes, edges\n",
    "\n",
    "def draw_dot(root):\n",
    "  dot = Digraph(format='svg', graph_attr={'rankdir': 'LR'}) # LR = left to right\n",
    "  \n",
    "  nodes, edges = trace(root)\n",
    "  for n in nodes:\n",
    "    uid = str(id(n))\n",
    "    # for any value in the graph, create a rectangular ('record') node for it\n",
    "    dot.node(name = uid, label = \"{ %s | data %.4f | grad %.4f }\" % (n.label, n.data, n.grad), shape='record')\n",
    "    if n._op:\n",
    "      # if this value is a result of some operation, create an op node for it\n",
    "      dot.node(name = uid + n._op, label = n._op)\n",
    "      # and connect this node to it\n",
    "      dot.edge(uid + n._op, uid)\n",
    "\n",
    "  for n1, n2 in edges:\n",
    "    # connect n1 to the op node of n2\n",
    "    dot.edge(str(id(n1)), str(id(n2)) + n2._op)\n",
    "\n",
    "  return dot\n"
   ]
  },
  {
   "cell_type": "code",
   "execution_count": null,
   "metadata": {},
   "outputs": [],
   "source": [
    "draw_dot(L)"
   ]
  },
  {
   "cell_type": "code",
   "execution_count": null,
   "metadata": {},
   "outputs": [],
   "source": [
    "a.data += 0.01 * a.grad\n",
    "b.data += 0.01 * b.grad\n",
    "c.data += 0.01 * c.grad\n",
    "f.data += 0.01 * f.grad\n",
    "\n",
    "e = a * b\n",
    "d = e + c\n",
    "L = d * f\n",
    "\n",
    "print(L.data)\n"
   ]
  },
  {
   "cell_type": "code",
   "execution_count": null,
   "metadata": {},
   "outputs": [],
   "source": [
    "def lol():\n",
    "  \n",
    "  h = 0.001\n",
    "  \n",
    "  a = Value(2.0, label='a')\n",
    "  b = Value(-3.0, label='b')\n",
    "  c = Value(10.0, label='c')\n",
    "  e = a*b; e.label = 'e'\n",
    "  d = e + c; d.label = 'd'\n",
    "  f = Value(-2.0, label='f')\n",
    "  L = d * f; L.label = 'L'\n",
    "  L1 = L.data\n",
    "  \n",
    "  a = Value(2.0, label='a')\n",
    "  b = Value(-3.0, label='b')\n",
    "  b.data += h\n",
    "  c = Value(10.0, label='c')\n",
    "  e = a*b; e.label = 'e'\n",
    "  d = e + c; d.label = 'd'\n",
    "  f = Value(-2.0, label='f')\n",
    "  L = d * f; L.label = 'L'\n",
    "  L2 = L.data\n",
    "  \n",
    "  print((L2 - L1)/h)\n",
    "  \n",
    "lol()"
   ]
  },
  {
   "cell_type": "code",
   "execution_count": null,
   "metadata": {},
   "outputs": [],
   "source": [
    "plt.plot(np.arange(-5,5,0.2), np.tanh(np.arange(-5,5,0.2))); plt.grid();"
   ]
  },
  {
   "cell_type": "code",
   "execution_count": null,
   "metadata": {},
   "outputs": [],
   "source": [
    "# inputs x1,x2\n",
    "x1 = Value(2.0, label='x1')\n",
    "x2 = Value(0.0, label='x2')\n",
    "# weights w1,w2\n",
    "w1 = Value(-3.0, label='w1')\n",
    "w2 = Value(1.0, label='w2')\n",
    "# bias of the neuron\n",
    "b = Value(6.8813735870195432, label='b')\n",
    "# x1*w1 + x2*w2 + b\n",
    "x1w1 = x1*w1; x1w1.label = 'x1*w1'\n",
    "x2w2 = x2*w2; x2w2.label = 'x2*w2'\n",
    "x1w1x2w2 = x1w1 + x2w2; x1w1x2w2.label = 'x1*w1 + x2*w2'\n",
    "n = x1w1x2w2 + b; n.label = 'n'\n",
    "o = n.tanh(); o.label = 'o'"
   ]
  },
  {
   "cell_type": "code",
   "execution_count": null,
   "metadata": {},
   "outputs": [],
   "source": [
    "draw_dot(o)"
   ]
  },
  {
   "cell_type": "code",
   "execution_count": null,
   "metadata": {},
   "outputs": [],
   "source": [
    "o.backward()"
   ]
  },
  {
   "cell_type": "code",
   "execution_count": null,
   "metadata": {},
   "outputs": [],
   "source": [
    "topo = []\n",
    "visited = set()\n",
    "def build_topo(v):\n",
    "  if v not in visited:\n",
    "    visited.add(v)\n",
    "    for child in v._prev:\n",
    "      build_topo(child)\n",
    "    topo.append(v)\n",
    "build_topo(o)\n",
    "topo"
   ]
  },
  {
   "cell_type": "code",
   "execution_count": null,
   "metadata": {},
   "outputs": [],
   "source": [
    "o.grad = 1.0"
   ]
  },
  {
   "cell_type": "code",
   "execution_count": null,
   "metadata": {},
   "outputs": [],
   "source": [
    "o._backward()"
   ]
  },
  {
   "cell_type": "code",
   "execution_count": null,
   "metadata": {},
   "outputs": [],
   "source": [
    "n._backward()"
   ]
  },
  {
   "cell_type": "code",
   "execution_count": null,
   "metadata": {},
   "outputs": [],
   "source": [
    "b._backward()"
   ]
  },
  {
   "cell_type": "code",
   "execution_count": null,
   "metadata": {},
   "outputs": [],
   "source": [
    "x1w1x2w2._backward()"
   ]
  },
  {
   "cell_type": "code",
   "execution_count": null,
   "metadata": {},
   "outputs": [],
   "source": [
    "x2w2._backward()\n",
    "x1w1._backward()"
   ]
  },
  {
   "cell_type": "code",
   "execution_count": null,
   "metadata": {},
   "outputs": [],
   "source": [
    "x1.grad = w1.data * x1w1.grad\n",
    "w1.grad = x1.data * x1w1.grad"
   ]
  },
  {
   "cell_type": "code",
   "execution_count": null,
   "metadata": {},
   "outputs": [],
   "source": [
    "x2.grad = w2.data * x2w2.grad\n",
    "w2.grad = x2.data * x2w2.grad"
   ]
  },
  {
   "cell_type": "code",
   "execution_count": null,
   "metadata": {},
   "outputs": [],
   "source": [
    "x1w1.grad = 0.5\n",
    "x2w2.grad = 0.5"
   ]
  },
  {
   "cell_type": "code",
   "execution_count": null,
   "metadata": {},
   "outputs": [],
   "source": [
    "x1w1x2w2.grad = 0.5\n",
    "b.grad = 0.5"
   ]
  },
  {
   "cell_type": "code",
   "execution_count": null,
   "metadata": {},
   "outputs": [],
   "source": [
    "n.grad = 0.5"
   ]
  },
  {
   "cell_type": "code",
   "execution_count": null,
   "metadata": {},
   "outputs": [],
   "source": [
    "o.grad = 1.0"
   ]
  },
  {
   "cell_type": "code",
   "execution_count": null,
   "metadata": {},
   "outputs": [],
   "source": [
    "1 - o.data**2"
   ]
  },
  {
   "cell_type": "code",
   "execution_count": null,
   "metadata": {},
   "outputs": [],
   "source": [
    "# o = tanh(n)\n",
    "# do/dn = 1 - o**2"
   ]
  },
  {
   "cell_type": "code",
   "execution_count": null,
   "metadata": {},
   "outputs": [],
   "source": [
    "a = Value(3.0, label='a')\n",
    "b = a + a   ; b.label = 'b'\n",
    "b.backward()\n",
    "draw_dot(b)"
   ]
  },
  {
   "cell_type": "code",
   "execution_count": null,
   "metadata": {},
   "outputs": [],
   "source": [
    "a = Value(-2.0, label='a')\n",
    "b = Value(3.0, label='b')\n",
    "d = a * b    ; d.label = 'd'\n",
    "e = a + b    ; e.label = 'e'\n",
    "f = d * e    ; f.label = 'f'\n",
    "\n",
    "f.backward()\n",
    "\n",
    "draw_dot(f)"
   ]
  },
  {
   "cell_type": "code",
   "execution_count": null,
   "metadata": {},
   "outputs": [],
   "source": []
  }
 ],
 "metadata": {
  "kernelspec": {
   "display_name": "Python 3 (ipykernel)",
   "language": "python",
   "name": "python3"
  },
  "language_info": {
   "codemirror_mode": {
    "name": "ipython",
    "version": 3
   },
   "file_extension": ".py",
   "mimetype": "text/x-python",
   "name": "python",
   "nbconvert_exporter": "python",
   "pygments_lexer": "ipython3",
   "version": "3.9.7"
  }
 },
 "nbformat": 4,
 "nbformat_minor": 4
}
